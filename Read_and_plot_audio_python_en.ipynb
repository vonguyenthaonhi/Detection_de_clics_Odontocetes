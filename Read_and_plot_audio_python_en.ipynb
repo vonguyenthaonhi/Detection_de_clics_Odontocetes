{
 "cells": [
  {
   "cell_type": "markdown",
   "id": "31fb947b",
   "metadata": {},
   "source": [
    "## Read and plot audio file with Python"
   ]
  },
  {
   "cell_type": "markdown",
   "id": "a4bc441c",
   "metadata": {},
   "source": [
    "Install packages and download an audio file example."
   ]
  },
  {
   "cell_type": "code",
   "execution_count": null,
   "id": "449f4a36",
   "metadata": {},
   "outputs": [],
   "source": [
    "!pip install matplotlib\n",
    "!pip install soundfile\n",
    "!wget http://sabiod.lis-lab.fr/pub/challenges/Biosonar/audio_example.wav"
   ]
  },
  {
   "cell_type": "markdown",
   "id": "8bd41496",
   "metadata": {},
   "source": [
    "There are many libraries to read audios file with Python. In this example, we present [Soundfile](https://pysoundfile.readthedocs.io/en/latest/) library."
   ]
  },
  {
   "cell_type": "code",
   "execution_count": null,
   "id": "1ed34edd",
   "metadata": {},
   "outputs": [],
   "source": [
    "import soundfile as sf\n",
    "sig, sr = sf.read(\"audio_example.wav\")\n",
    "print(\"Signal size : %s\"%sig.shape)"
   ]
  },
  {
   "cell_type": "markdown",
   "id": "767cd838",
   "metadata": {},
   "source": [
    "The function takes the audio filename (path and name) in parameter and return 2 values: \n",
    "- The audio signal, if the file is in mono (one channel), the signal will be a vector with a dimension {number_of_sample} = {signal_duration} * {sampling_rate}. If the file is in stereo (two channels), the signal will be a matrix 2D [{number_of_sample},{number_of_channel}].\n",
    "- Sampling rate\n",
    "\n",
    "In this challenge, only mono files will be used. \n",
    "If needed, you can read only one part of the audio signal with arguments: \"start\" et \"stop\" in sf.read function."
   ]
  },
  {
   "cell_type": "markdown",
   "id": "f0a34628",
   "metadata": {},
   "source": [
    "To plot the signal :"
   ]
  },
  {
   "cell_type": "code",
   "execution_count": null,
   "id": "aab66776",
   "metadata": {
    "scrolled": true
   },
   "outputs": [],
   "source": [
    "import matplotlib.pyplot as plt\n",
    "plt.plot(sig)\n",
    "plt.show()"
   ]
  },
  {
   "cell_type": "markdown",
   "id": "e1cadf00",
   "metadata": {},
   "source": [
    "The signal can be ploted as a spectrogram (time frequency representation).\n",
    "This representation shown frequency of the signal."
   ]
  },
  {
   "cell_type": "code",
   "execution_count": null,
   "id": "c32d51ef",
   "metadata": {
    "scrolled": true
   },
   "outputs": [],
   "source": [
    "!pip install matplotlib\n",
    "!pip install librosa"
   ]
  },
  {
   "cell_type": "code",
   "execution_count": null,
   "id": "4245976f",
   "metadata": {},
   "outputs": [],
   "source": [
    "import librosa as lr\n",
    "import librosa.display\n",
    "import numpy as np"
   ]
  },
  {
   "cell_type": "code",
   "execution_count": null,
   "id": "6e5d9171",
   "metadata": {},
   "outputs": [],
   "source": [
    "tf_sig = lr.stft(sig, n_fft=2048)\n",
    "tf_sig = np.abs(tf_sig)"
   ]
  },
  {
   "cell_type": "code",
   "execution_count": null,
   "id": "80bae228",
   "metadata": {},
   "outputs": [],
   "source": [
    "lr.display.specshow(lr.amplitude_to_db(tf_sig, ref=np.max));plt.title(\"Spectrogram\");plt.xlabel(\"Time\"); plt.ylabel(\"Frequencies\");plt.show()"
   ]
  }
 ],
 "metadata": {
  "kernelspec": {
   "display_name": "Python 3 (ipykernel)",
   "language": "python",
   "name": "python3"
  },
  "language_info": {
   "codemirror_mode": {
    "name": "ipython",
    "version": 3
   },
   "file_extension": ".py",
   "mimetype": "text/x-python",
   "name": "python",
   "nbconvert_exporter": "python",
   "pygments_lexer": "ipython3",
   "version": "3.10.6"
  }
 },
 "nbformat": 4,
 "nbformat_minor": 5
}
