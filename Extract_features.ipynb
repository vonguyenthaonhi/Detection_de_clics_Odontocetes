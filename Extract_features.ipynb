{
 "cells": [
  {
   "cell_type": "markdown",
   "id": "aafa2785",
   "metadata": {},
   "source": [
    "# Extracting Benchmark audio features"
   ]
  },
  {
   "cell_type": "code",
   "execution_count": null,
   "id": "4b5a6a96",
   "metadata": {},
   "outputs": [],
   "source": [
    "!pip install soundfile\n",
    "!pip install numpy\n",
    "!pip install scipy\n",
    "!pip install librosa"
   ]
  },
  {
   "cell_type": "code",
   "execution_count": null,
   "id": "6ea6304d",
   "metadata": {},
   "outputs": [],
   "source": [
    "import soundfile as sf\n",
    "import numpy as np\n",
    "from scipy import signal\n",
    "import librosa.feature as feat"
   ]
  },
  {
   "cell_type": "code",
   "execution_count": null,
   "id": "a3a0cc7b",
   "metadata": {},
   "outputs": [],
   "source": [
    "filename = \"audio_example.wav\"\n",
    "sig, sr = sf.read(filename)\n",
    "\n",
    "sos = signal.butter(6, [5000, 100000], 'bandpass', fs=sr, output='sos')\n",
    "sig = signal.sosfiltfilt(sos, sig)\n",
    "rms = feat.rms(y=sig) \n",
    "sc = feat.spectral_centroid(y=sig, sr=sr)\n",
    "sb = feat.spectral_bandwidth(y=sig,sr=sr)\n",
    "sf = feat.spectral_flatness(y=sig)\n",
    "\n",
    "features = [np.mean(rms), np.std(rms), np.min(rms), np.max(rms),\\\n",
    "            np.mean(sc), np.std(sc), np.min(sc), np.max(sc),\\\n",
    "            np.mean(sb), np.std(sb), np.min(sb), np.max(sb),\\\n",
    "            np.mean(sf), np.std(sf), np.min(sf), np.max(sf)]"
   ]
  },
  {
   "cell_type": "code",
   "execution_count": null,
   "id": "5b690e52",
   "metadata": {},
   "outputs": [],
   "source": [
    "print(features)"
   ]
  }
 ],
 "metadata": {
  "kernelspec": {
   "display_name": "Python 3 (ipykernel)",
   "language": "python",
   "name": "python3"
  },
  "language_info": {
   "codemirror_mode": {
    "name": "ipython",
    "version": 3
   },
   "file_extension": ".py",
   "mimetype": "text/x-python",
   "name": "python",
   "nbconvert_exporter": "python",
   "pygments_lexer": "ipython3",
   "version": "3.10.6"
  }
 },
 "nbformat": 4,
 "nbformat_minor": 5
}
